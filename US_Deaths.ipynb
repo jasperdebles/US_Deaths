{
 "cells": [
  {
   "cell_type": "code",
   "execution_count": 50,
   "metadata": {},
   "outputs": [],
   "source": [
    "# Import packages \n",
    "import pandas as pd\n",
    "import matplotlib.pyplot as plt"
   ]
  },
  {
   "cell_type": "code",
   "execution_count": 51,
   "metadata": {},
   "outputs": [],
   "source": [
    "# Import data \n",
    "df = pd.read_csv('Weekly_counts_of_deaths_by_jurisdiction_and_age_group.csv', parse_dates = ['Week Ending Date'], index_col = 'Week Ending Date')"
   ]
  },
  {
   "cell_type": "code",
   "execution_count": 52,
   "metadata": {},
   "outputs": [
    {
     "data": {
      "text/plain": [
       "(182606, 10)"
      ]
     },
     "execution_count": 52,
     "metadata": {},
     "output_type": "execute_result"
    }
   ],
   "source": [
    "df.shape"
   ]
  },
  {
   "cell_type": "code",
   "execution_count": 53,
   "metadata": {},
   "outputs": [
    {
     "data": {
      "text/html": [
       "<div>\n",
       "<style scoped>\n",
       "    .dataframe tbody tr th:only-of-type {\n",
       "        vertical-align: middle;\n",
       "    }\n",
       "\n",
       "    .dataframe tbody tr th {\n",
       "        vertical-align: top;\n",
       "    }\n",
       "\n",
       "    .dataframe thead th {\n",
       "        text-align: right;\n",
       "    }\n",
       "</style>\n",
       "<table border=\"1\" class=\"dataframe\">\n",
       "  <thead>\n",
       "    <tr style=\"text-align: right;\">\n",
       "      <th></th>\n",
       "      <th>Jurisdiction</th>\n",
       "      <th>State Abbreviation</th>\n",
       "      <th>Year</th>\n",
       "      <th>Week</th>\n",
       "      <th>Age Group</th>\n",
       "      <th>Number of Deaths</th>\n",
       "      <th>Time Period</th>\n",
       "      <th>Type</th>\n",
       "      <th>Suppress</th>\n",
       "      <th>Note</th>\n",
       "    </tr>\n",
       "    <tr>\n",
       "      <th>Week Ending Date</th>\n",
       "      <th></th>\n",
       "      <th></th>\n",
       "      <th></th>\n",
       "      <th></th>\n",
       "      <th></th>\n",
       "      <th></th>\n",
       "      <th></th>\n",
       "      <th></th>\n",
       "      <th></th>\n",
       "      <th></th>\n",
       "    </tr>\n",
       "  </thead>\n",
       "  <tbody>\n",
       "    <tr>\n",
       "      <th>2015-01-10</th>\n",
       "      <td>California</td>\n",
       "      <td>CA</td>\n",
       "      <td>2015</td>\n",
       "      <td>1</td>\n",
       "      <td>25-44 years</td>\n",
       "      <td>252.0</td>\n",
       "      <td>2015-2019</td>\n",
       "      <td>Predicted (weighted)</td>\n",
       "      <td>NaN</td>\n",
       "      <td>NaN</td>\n",
       "    </tr>\n",
       "    <tr>\n",
       "      <th>2015-01-17</th>\n",
       "      <td>California</td>\n",
       "      <td>CA</td>\n",
       "      <td>2015</td>\n",
       "      <td>2</td>\n",
       "      <td>25-44 years</td>\n",
       "      <td>235.0</td>\n",
       "      <td>2015-2019</td>\n",
       "      <td>Predicted (weighted)</td>\n",
       "      <td>NaN</td>\n",
       "      <td>NaN</td>\n",
       "    </tr>\n",
       "    <tr>\n",
       "      <th>2015-01-24</th>\n",
       "      <td>California</td>\n",
       "      <td>CA</td>\n",
       "      <td>2015</td>\n",
       "      <td>3</td>\n",
       "      <td>25-44 years</td>\n",
       "      <td>202.0</td>\n",
       "      <td>2015-2019</td>\n",
       "      <td>Predicted (weighted)</td>\n",
       "      <td>NaN</td>\n",
       "      <td>NaN</td>\n",
       "    </tr>\n",
       "    <tr>\n",
       "      <th>2015-01-31</th>\n",
       "      <td>California</td>\n",
       "      <td>CA</td>\n",
       "      <td>2015</td>\n",
       "      <td>4</td>\n",
       "      <td>25-44 years</td>\n",
       "      <td>209.0</td>\n",
       "      <td>2015-2019</td>\n",
       "      <td>Predicted (weighted)</td>\n",
       "      <td>NaN</td>\n",
       "      <td>NaN</td>\n",
       "    </tr>\n",
       "    <tr>\n",
       "      <th>2015-02-07</th>\n",
       "      <td>California</td>\n",
       "      <td>CA</td>\n",
       "      <td>2015</td>\n",
       "      <td>5</td>\n",
       "      <td>25-44 years</td>\n",
       "      <td>264.0</td>\n",
       "      <td>2015-2019</td>\n",
       "      <td>Predicted (weighted)</td>\n",
       "      <td>NaN</td>\n",
       "      <td>NaN</td>\n",
       "    </tr>\n",
       "  </tbody>\n",
       "</table>\n",
       "</div>"
      ],
      "text/plain": [
       "                 Jurisdiction State Abbreviation  Year  Week    Age Group  \\\n",
       "Week Ending Date                                                            \n",
       "2015-01-10         California                 CA  2015     1  25-44 years   \n",
       "2015-01-17         California                 CA  2015     2  25-44 years   \n",
       "2015-01-24         California                 CA  2015     3  25-44 years   \n",
       "2015-01-31         California                 CA  2015     4  25-44 years   \n",
       "2015-02-07         California                 CA  2015     5  25-44 years   \n",
       "\n",
       "                  Number of Deaths Time Period                  Type Suppress  \\\n",
       "Week Ending Date                                                                \n",
       "2015-01-10                   252.0   2015-2019  Predicted (weighted)      NaN   \n",
       "2015-01-17                   235.0   2015-2019  Predicted (weighted)      NaN   \n",
       "2015-01-24                   202.0   2015-2019  Predicted (weighted)      NaN   \n",
       "2015-01-31                   209.0   2015-2019  Predicted (weighted)      NaN   \n",
       "2015-02-07                   264.0   2015-2019  Predicted (weighted)      NaN   \n",
       "\n",
       "                 Note  \n",
       "Week Ending Date       \n",
       "2015-01-10        NaN  \n",
       "2015-01-17        NaN  \n",
       "2015-01-24        NaN  \n",
       "2015-01-31        NaN  \n",
       "2015-02-07        NaN  "
      ]
     },
     "execution_count": 53,
     "metadata": {},
     "output_type": "execute_result"
    }
   ],
   "source": [
    "# Set State \n",
    "df = df[df['Jurisdiction']=='California']\n",
    "df = df[df['Age Group']=='25-44 years']\n",
    "df.head()"
   ]
  },
  {
   "cell_type": "code",
   "execution_count": 54,
   "metadata": {},
   "outputs": [
    {
     "data": {
      "image/png": "[encoded data removed]",
      "text/plain": [
       "<Figure size 432x288 with 1 Axes>"
      ]
     },
     "metadata": {
      "needs_background": "light"
     },
     "output_type": "display_data"
    }
   ],
   "source": [
    "# Plot \n",
    "df['Number of Deaths'].plot(title = 'Observed number of deaths California (age 25-44 years)')\n",
    "plt.grid()\n",
    "plt.show()"
   ]
  },
  {
   "cell_type": "code",
   "execution_count": null,
   "metadata": {},
   "outputs": [],
   "source": []
  }
 ],
 "metadata": {
  "kernelspec": {
   "display_name": "Python 3",
   "language": "python",
   "name": "python3"
  },
  "language_info": {
   "codemirror_mode": {
    "name": "ipython",
    "version": 3
   },
   "file_extension": ".py",
   "mimetype": "text/x-python",
   "name": "python",
   "nbconvert_exporter": "python",
   "pygments_lexer": "ipython3",
   "version": "3.7.3"
  }
 },
 "nbformat": 4,
 "nbformat_minor": 4
}
